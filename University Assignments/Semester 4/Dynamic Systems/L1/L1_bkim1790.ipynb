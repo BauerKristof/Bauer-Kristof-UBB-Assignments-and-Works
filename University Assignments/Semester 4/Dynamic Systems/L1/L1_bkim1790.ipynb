{
 "cells": [
  {
   "cell_type": "code",
   "execution_count": 4,
   "metadata": {},
   "outputs": [
    {
     "name": "stdout",
     "output_type": "stream",
     "text": [
      "1\n",
      "1\n",
      "3\n",
      "5\n",
      "8\n",
      "13\n",
      "21\n",
      "34\n",
      "55\n",
      "89\n",
      "144\n",
      "233\n",
      "377\n",
      "610\n",
      "987\n",
      "1597\n",
      "2584\n",
      "4181\n",
      "6765\n"
     ]
    }
   ],
   "source": [
    "def fibo():\n",
    "    i=3\n",
    "    f1=1\n",
    "    print(f1)\n",
    "    f2=1\n",
    "    print(f2)\n",
    "    f3=f1+f2\n",
    "\n",
    "    while i<20:\n",
    "        i+=1\n",
    "        f1=f2\n",
    "        f2=f3\n",
    "        f3=f1+f2\n",
    "        print(f3)\n",
    "\n",
    "fibo()"
   ]
  },
  {
   "cell_type": "code",
   "execution_count": 6,
   "metadata": {},
   "outputs": [
    {
     "name": "stdout",
     "output_type": "stream",
     "text": [
      "d=  1  a=  -3  b=  2  m =  7 n=  11\n",
      "Teljesul a feltetel\n",
      "d=  2  a=  4  b=  -7  m =  32 n=  18\n",
      "Teljesul a feltetel\n",
      "d=  2  a=  13  b=  -8  m =  42 n=  68\n",
      "Teljesul a feltetel\n"
     ]
    }
   ],
   "source": [
    "def kitEuk(m, n):\n",
    "    if m == 0:\n",
    "        return (n, 0, 1)\n",
    "    else:\n",
    "        d, a, b = kitEuk(n % m, m)\n",
    "    return (d, b - (n//m) * a, a)\n",
    "\n",
    "def teljesul(m,n):\n",
    "    d,a,b=kitEuk(m,n)\n",
    "    print(\"d= \",d,\" a= \",a,\" b= \",b,\" m = \",m,\"n= \",n)\n",
    "    if d==(a*m+b*n):\n",
    "        print(\"Teljesul a feltetel\")\n",
    "    else:\n",
    "        print(\"Nem teljesul a feltetel\")\n",
    "\n",
    "teljesul(7,11)\n",
    "teljesul(32,18)\n",
    "teljesul(42,68)"
   ]
  },
  {
   "cell_type": "code",
   "execution_count": 7,
   "metadata": {},
   "outputs": [
    {
     "name": "stdout",
     "output_type": "stream",
     "text": [
      "X Values=  [0, 1, 1, 2, 3, 5, 8, 13, 21, 34, 55, 89, 144, 233, 377, 610, 987, 1597, 2584]\n"
     ]
    },
    {
     "data": {
      "image/png": "[encoded data removed]",
      "text/plain": [
       "<Figure size 432x288 with 1 Axes>"
      ]
     },
     "metadata": {
      "needs_background": "light"
     },
     "output_type": "display_data"
    }
   ],
   "source": [
    "import numpy as np\n",
    "from numpy.linalg import matrix_power\n",
    "%matplotlib inline\n",
    "import matplotlib.pyplot as plt\n",
    "\n",
    "def matrixCalc(n):\n",
    "    if n>=1:\n",
    "        segedArr1=np.array([[1, 1], [1, 0]])\n",
    "        segedArr2=np.array([[0], [1]])\n",
    "        \n",
    "        powerArray=(np.linalg.matrix_power(segedArr1, (n-1))).dot(segedArr2)\n",
    "        return powerArray[0]\n",
    "\n",
    "def kirajzol():\n",
    "    fig2, ax2 = plt.subplots()\n",
    "    x=[]\n",
    "    for i in range(1,20):\n",
    "        x1=matrixCalc(i)\n",
    "        x.append(int(x1))\n",
    "    print(\"X Values= \",x)\n",
    "    plt.plot(x)\n",
    "\n",
    "kirajzol()"
   ]
  },
  {
   "cell_type": "code",
   "execution_count": 1,
   "metadata": {},
   "outputs": [
    {
     "data": {
      "application/vnd.jupyter.widget-view+json": {
       "model_id": "87da11ba9f6342b58d5dede07e113bb2",
       "version_major": 2,
       "version_minor": 0
      },
      "text/plain": [
       "Canvas(toolbar=Toolbar(toolitems=[('Home', 'Reset original view', 'home', 'home'), ('Back', 'Back to previous …"
      ]
     },
     "metadata": {},
     "output_type": "display_data"
    },
    {
     "data": {
      "application/vnd.jupyter.widget-view+json": {
       "model_id": "17791b2d6c7140858373cd765ec29e71",
       "version_major": 2,
       "version_minor": 0
      },
      "text/plain": [
       "interactive(children=(IntSlider(value=3, description='n', max=5), Output()), _dom_classes=('widget-interact',)…"
      ]
     },
     "metadata": {},
     "output_type": "display_data"
    }
   ],
   "source": [
    "import matplotlib.pyplot as plt\n",
    "%matplotlib widget\n",
    "import numpy as np\n",
    "from ipywidgets import interact, widgets\n",
    "\n",
    " \n",
    "fig,ax = plt.subplots()\n",
    "plt.xlim(0,35)\n",
    "plt.ylim(0,35)\n",
    "\n",
    "def negyzetKirajzol(n=3):\n",
    "    ax.lines=[]\n",
    "    for i in range(n+1):\n",
    "        ax.plot([0,0,2**i,2**i,0],[2**i,0,0,2**i,2**i],'r')\n",
    "        ax.plot(2**i,2**i,'gx')\n",
    "    fig.show()\n",
    "\n",
    "\n",
    "widgets.interact(negyzetKirajzol,n=(0,5));"
   ]
  },
  {
   "cell_type": "code",
   "execution_count": null,
   "metadata": {},
   "outputs": [],
   "source": []
  }
 ],
 "metadata": {
  "kernelspec": {
   "display_name": "Python 3",
   "language": "python",
   "name": "python3"
  },
  "language_info": {
   "codemirror_mode": {
    "name": "ipython",
    "version": 3
   },
   "file_extension": ".py",
   "mimetype": "text/x-python",
   "name": "python",
   "nbconvert_exporter": "python",
   "pygments_lexer": "ipython3",
   "version": "3.7.6"
  }
 },
 "nbformat": 4,
 "nbformat_minor": 4
}
