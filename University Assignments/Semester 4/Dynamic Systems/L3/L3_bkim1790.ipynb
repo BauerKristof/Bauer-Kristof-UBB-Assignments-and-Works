{
 "cells": [
  {
   "cell_type": "code",
   "execution_count": 21,
   "metadata": {},
   "outputs": [
    {
     "name": "stdout",
     "output_type": "stream",
     "text": [
      "Egyszeru kamat otven ev utan:  1367.5\n",
      "Kamatos kamat otven ev utan:  1442.1408733135593\n"
     ]
    },
    {
     "data": {
      "application/vnd.jupyter.widget-view+json": {
       "model_id": "b5a3b2d700734705a7c779295dde338b",
       "version_major": 2,
       "version_minor": 0
      },
      "text/plain": [
       "Canvas(toolbar=Toolbar(toolitems=[('Home', 'Reset original view', 'home', 'home'), ('Back', 'Back to previous …"
      ]
     },
     "metadata": {},
     "output_type": "display_data"
    }
   ],
   "source": [
    "import matplotlib.pyplot as plt\n",
    "%matplotlib widget\n",
    "\n",
    "def penzSzamol(n,t,l):\n",
    "    egyszerukamat=[]\n",
    "    kamatoskamat=[]\n",
    "    index=[]\n",
    "    \n",
    "    egyszerukamat.append(n);\n",
    "    kamatoskamat.append(n);\n",
    "    index.append(0)\n",
    "\n",
    "    \n",
    "    for i in range(1,t):\n",
    "        egyszerukamat.append(l*egyszerukamat[0]+egyszerukamat[i-1])\n",
    "        kamatoskamat.append(l*kamatoskamat[i-1]+kamatoskamat[i-1])\n",
    "        index.append(i)\n",
    "    \n",
    "    print('Egyszeru kamat otven ev utan: ',egyszerukamat[t-1])\n",
    "    print('Kamatos kamat otven ev utan: ',kamatoskamat[t-1])\n",
    "    \n",
    "    plt.plot(index,egyszerukamat,'r',label='Egyszeru kamat')\n",
    "    plt.plot(index,kamatoskamat,'b',label='Kamatos kamat')\n",
    "    plt.legend();\n",
    "    \n",
    "penzSzamol(1000,50,0.0075)"
   ]
  },
  {
   "cell_type": "code",
   "execution_count": null,
   "metadata": {},
   "outputs": [],
   "source": []
  },
  {
   "cell_type": "code",
   "execution_count": null,
   "metadata": {},
   "outputs": [],
   "source": []
  },
  {
   "cell_type": "code",
   "execution_count": 25,
   "metadata": {},
   "outputs": [
    {
     "data": {
      "application/vnd.jupyter.widget-view+json": {
       "model_id": "fd508b7031f14e629187b27fd15f8fcb",
       "version_major": 2,
       "version_minor": 0
      },
      "text/plain": [
       "Canvas(toolbar=Toolbar(toolitems=[('Home', 'Reset original view', 'home', 'home'), ('Back', 'Back to previous …"
      ]
     },
     "metadata": {},
     "output_type": "display_data"
    }
   ],
   "source": [
    "from ipywidgets import  widgets\n",
    "import matplotlib.pyplot as plt\n",
    "\n",
    "%matplotlib widget\n",
    "\n",
    "def expPlot(n,t):\n",
    "    exponencialis = []\n",
    "    index=[]\n",
    "    \n",
    "    exponencialis.append(n)\n",
    "    index.append(0)\n",
    "    \n",
    "    for  i in range (1,t):\n",
    "        exponencialis.append(exponencialis[i-1]*2)\n",
    "        index.append(i)\n",
    "    plt.subplot(1, 2, 1)\n",
    "    plt.plot(index, exponencialis,'r')\n",
    "    \n",
    "def logPlot(n,t,m):\n",
    "    logisztikus =[]\n",
    "    index=[]\n",
    "    \n",
    "    logisztikus.append(n)\n",
    "    index.append(0)\n",
    "    \n",
    "    for  i in range (1,t):\n",
    "        logisztikus.append(logisztikus[i-1]+logisztikus[i-1]*(1-logisztikus[i-1]/m))\n",
    "        index.append(i)\n",
    "    plt.subplot(1, 2, 2)\n",
    "    plt.plot(index, logisztikus,'b')\n",
    "\n",
    "expPlot(10**5,24)  \n",
    "logPlot(10**5,24,10**10)"
   ]
  },
  {
   "cell_type": "code",
   "execution_count": null,
   "metadata": {},
   "outputs": [],
   "source": []
  },
  {
   "cell_type": "code",
   "execution_count": 26,
   "metadata": {},
   "outputs": [
    {
     "data": {
      "application/vnd.jupyter.widget-view+json": {
       "model_id": "6c2a4f48a1bf4439b3a553ef098da78e",
       "version_major": 2,
       "version_minor": 0
      },
      "text/plain": [
       "interactive(children=(FloatSlider(value=2.0, description='k', max=4.0, step=0.01), Output()), _dom_classes=('w…"
      ]
     },
     "metadata": {},
     "output_type": "display_data"
    }
   ],
   "source": [
    "from ipywidgets import  widgets,interact,fixed\n",
    "import matplotlib.pyplot as plt\n",
    "\n",
    "%matplotlib widget\n",
    "\n",
    "def discPlot(k,n):\n",
    "    plt.clf()\n",
    "    \n",
    "    u=[]\n",
    "    index=[]\n",
    "   \n",
    "    u.append(0.5)\n",
    "    index.append(0)\n",
    "   \n",
    "    for i in range(1,n):\n",
    "        u.append(k*u[i-1]*(1-u[i-1]))\n",
    "        index.append(i)\n",
    "    plt.plot(index, u,'b.')\n",
    "    \n",
    "interact(discPlot, k=(0.0,4.0,0.01),n=fixed(100));"
   ]
  },
  {
   "cell_type": "code",
   "execution_count": 27,
   "metadata": {},
   "outputs": [
    {
     "data": {
      "application/vnd.jupyter.widget-view+json": {
       "model_id": "47fbac03c76a4a039d7c018c637220cf",
       "version_major": 2,
       "version_minor": 0
      },
      "text/plain": [
       "Canvas(toolbar=Toolbar(toolitems=[('Home', 'Reset original view', 'home', 'home'), ('Back', 'Back to previous …"
      ]
     },
     "metadata": {},
     "output_type": "display_data"
    }
   ],
   "source": [
    "from ipywidgets import  widgets,interact\n",
    "import matplotlib.pyplot as plt\n",
    "%matplotlib widget\n",
    "\n",
    "def plotBifurkacios():\n",
    "    k = 0\n",
    "    while (k <= 4):\n",
    "        seged = []\n",
    "        seged.append(0.5)\n",
    "        plotk =[]\n",
    "\n",
    "        for i in range(1,200):\n",
    "            seged.append(k*seged[i-1]*(1-seged[i-1]))\n",
    "    \n",
    "        u = []\n",
    "        u.append(seged[199])\n",
    "    \n",
    "        for i in range(1,300):\n",
    "            u.append(k*u[i-1]*(1-u[i-1]))\n",
    "    \n",
    "        for i in range(0,300):\n",
    "            plotk.append(k)\n",
    "    \n",
    "        plt.plot(plotk,u,'b.')\n",
    "        k = k + 0.01\n",
    "        \n",
    "plotBifurkacios()"
   ]
  },
  {
   "cell_type": "code",
   "execution_count": null,
   "metadata": {},
   "outputs": [],
   "source": []
  },
  {
   "cell_type": "code",
   "execution_count": 28,
   "metadata": {},
   "outputs": [
    {
     "data": {
      "application/vnd.jupyter.widget-view+json": {
       "model_id": "d6e17843a3ab4aaa8328a698c05ec8f8",
       "version_major": 2,
       "version_minor": 0
      },
      "text/plain": [
       "Canvas(toolbar=Toolbar(toolitems=[('Home', 'Reset original view', 'home', 'home'), ('Back', 'Back to previous …"
      ]
     },
     "metadata": {},
     "output_type": "display_data"
    },
    {
     "data": {
      "application/vnd.jupyter.widget-view+json": {
       "model_id": "197ec96f1a2f451986d4fffc9d8ac479",
       "version_major": 2,
       "version_minor": 0
      },
      "text/plain": [
       "interactive(children=(FloatSlider(value=2.0, description='k', max=4.0, step=0.01), Output()), _dom_classes=('w…"
      ]
     },
     "metadata": {},
     "output_type": "display_data"
    }
   ],
   "source": [
    "import ipywidgets as widgets\n",
    "import matplotlib.pyplot as plt\n",
    "fig, ax = plt.subplots()\n",
    "\n",
    "def pokhallo(k):\n",
    "    ax.lines=[]\n",
    "    fgvPlot(k)\n",
    "    pokhalloPlot(k)\n",
    "    \n",
    "def fgvPlot(k):\n",
    "    x = 0\n",
    "    index = []\n",
    "    fgv = []\n",
    "    \n",
    "    while (x <= 1):\n",
    "        fgv.append(fgvErtek(k,x))\n",
    "        index.append(x)\n",
    "        x = x + 0.01\n",
    "    ax.plot(index,fgv,'b')\n",
    "    \n",
    "    ax.plot([0,1],'r')\n",
    "    \n",
    "def fgvErtek(k,x):\n",
    "    return k*x*(1-x)\n",
    "\n",
    "def pokhalloPlot(k):\n",
    "    u = []\n",
    "    u.append(0.5)\n",
    "    pokKord1 = []\n",
    "    pokKord1.append(u[0])\n",
    "\n",
    "    pokKord2 = []\n",
    "    pokKord2.append(0)\n",
    "    \n",
    "    for i in range(1,100):\n",
    "        u.append(k*u[i-1]*(1-u[i-1]))\n",
    "        pokKord1.append(u[i-1])\n",
    "        pokKord2.append(u[i])\n",
    "        pokKord1.append(u[i])\n",
    "        pokKord2.append(u[i])\n",
    "    ax.plot(pokKord1,pokKord2,'k')\n",
    "    \n",
    "widgets.interact(pokhallo,k=(0,4,0.01));"
   ]
  },
  {
   "cell_type": "code",
   "execution_count": null,
   "metadata": {},
   "outputs": [],
   "source": []
  },
  {
   "cell_type": "code",
   "execution_count": null,
   "metadata": {},
   "outputs": [],
   "source": []
  }
 ],
 "metadata": {
  "kernelspec": {
   "display_name": "Python 3",
   "language": "python",
   "name": "python3"
  },
  "language_info": {
   "codemirror_mode": {
    "name": "ipython",
    "version": 3
   },
   "file_extension": ".py",
   "mimetype": "text/x-python",
   "name": "python",
   "nbconvert_exporter": "python",
   "pygments_lexer": "ipython3",
   "version": "3.7.6"
  }
 },
 "nbformat": 4,
 "nbformat_minor": 4
}
